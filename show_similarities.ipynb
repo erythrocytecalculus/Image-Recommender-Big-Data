{
 "cells": [
  {
   "cell_type": "markdown",
   "id": "67d30eea",
   "metadata": {},
   "source": [
    "### **Show Similarities Interface**\n",
    "\n",
    "In diesem Notebook können alle gesammelten Daten verwendet werden, um die *k* ähnlichsten Bilder zu einem gegebenen Bild zu ermitteln – je nach gewähltem Modus und Ähnlichkeitsmetrik."
   ]
  },
  {
   "cell_type": "code",
   "execution_count": 5,
   "id": "d58e0da8",
   "metadata": {},
   "outputs": [
    {
     "ename": "ImportError",
     "evalue": "cannot import name 'input_image_embedding' from 'embeddings' (c:\\Users\\TUFA17\\image_recommender\\embeddings.py)",
     "output_type": "error",
     "traceback": [
      "\u001b[1;31m---------------------------------------------------------------------------\u001b[0m",
      "\u001b[1;31mImportError\u001b[0m                               Traceback (most recent call last)",
      "Cell \u001b[1;32mIn[5], line 1\u001b[0m\n\u001b[1;32m----> 1\u001b[0m \u001b[38;5;28;01mfrom\u001b[39;00m \u001b[38;5;21;01msimilarities\u001b[39;00m \u001b[38;5;28;01mimport\u001b[39;00m calculate_similarities\n\u001b[0;32m      2\u001b[0m \u001b[38;5;28;01mfrom\u001b[39;00m \u001b[38;5;21;01mconfig_paths\u001b[39;00m \u001b[38;5;28;01mimport\u001b[39;00m DB_PATH\n\u001b[0;32m      3\u001b[0m \u001b[38;5;28;01mimport\u001b[39;00m \u001b[38;5;21;01msqlite3\u001b[39;00m\n",
      "File \u001b[1;32mc:\\Users\\TUFA17\\image_recommender\\similarities.py:12\u001b[0m\n\u001b[0;32m     10\u001b[0m \u001b[38;5;28;01mfrom\u001b[39;00m \u001b[38;5;21;01mhistograms\u001b[39;00m \u001b[38;5;28;01mimport\u001b[39;00m input_image_histogram\n\u001b[0;32m     11\u001b[0m \u001b[38;5;28;01mfrom\u001b[39;00m \u001b[38;5;21;01mhashes\u001b[39;00m \u001b[38;5;28;01mimport\u001b[39;00m input_image_ahash, input_image_dhash, input_image_phash\n\u001b[1;32m---> 12\u001b[0m \u001b[38;5;28;01mfrom\u001b[39;00m \u001b[38;5;21;01membeddings\u001b[39;00m \u001b[38;5;28;01mimport\u001b[39;00m input_image_embedding\n\u001b[0;32m     14\u001b[0m \u001b[38;5;66;03m# --- FAISS (optional; graceful fallback provided) ---\u001b[39;00m\n\u001b[0;32m     15\u001b[0m \u001b[38;5;28;01mtry\u001b[39;00m:\n",
      "\u001b[1;31mImportError\u001b[0m: cannot import name 'input_image_embedding' from 'embeddings' (c:\\Users\\TUFA17\\image_recommender\\embeddings.py)"
     ]
    }
   ],
   "source": [
    "from similarities import calculate_similarities\n",
    "from config_paths import DB_PATH\n",
    "import sqlite3"
   ]
  },
  {
   "cell_type": "code",
   "execution_count": null,
   "id": "dca8f3ee",
   "metadata": {},
   "outputs": [],
   "source": [
    "conn = sqlite3.connect(DB_PATH)\n",
    "c = conn.cursor()"
   ]
  },
  {
   "cell_type": "code",
   "execution_count": null,
   "id": "20219790",
   "metadata": {},
   "outputs": [],
   "source": [
    "input_images = [r\"D:\\data\\image_data\\Landscapes\\00000000_(2).jpg\"]"
   ]
  },
  {
   "cell_type": "markdown",
   "id": "3ee6e588",
   "metadata": {},
   "source": [
    "### **EMBEDDINGS**"
   ]
  },
  {
   "cell_type": "code",
   "execution_count": null,
   "id": "fb87701f",
   "metadata": {},
   "outputs": [],
   "source": [
    "calculate_similarities(input_images, c, mode=\"embeddings\", metric=\"ann_cosine\", top_k=5, verbose=True)"
   ]
  },
  {
   "cell_type": "markdown",
   "id": "320949ee",
   "metadata": {},
   "source": [
    "### **COLOR RGB**"
   ]
  },
  {
   "cell_type": "code",
   "execution_count": null,
   "id": "ca78175d",
   "metadata": {},
   "outputs": [],
   "source": [
    "calculate_similarities(input_images, c, mode=\"rgb\", metric=\"bhattacharyya\", top_k=5, verbose=True)"
   ]
  },
  {
   "cell_type": "markdown",
   "id": "e3c31d1d",
   "metadata": {},
   "source": [
    "### **A-HASHES**"
   ]
  },
  {
   "cell_type": "code",
   "execution_count": null,
   "id": "b18ec232",
   "metadata": {},
   "outputs": [],
   "source": [
    "calculate_similarities(input_images, c, mode=\"phashes\", metric=\"hamming\", top_k=5)"
   ]
  },
  {
   "cell_type": "markdown",
   "id": "8a645128",
   "metadata": {},
   "source": [
    "### **Multiple input images**"
   ]
  },
  {
   "cell_type": "code",
   "execution_count": null,
   "id": "a238c7d1",
   "metadata": {},
   "outputs": [],
   "source": [
    "input_images = [r\"D:\\data\\image_data\\Landscapes\\00000000_(6).jpg\",\n",
    "                r\"D:\\data\\image_data\\Fruits_Vegetables\\train\\banana\\Image_8.jpg\",\n",
    "                r\"D:\\data\\image_data\\Landscapes\\00000002.jpg\",\n",
    "                r\"D:\\data\\image_data\\Landscapes\\00000007_(6).jpg\",\n",
    "                r\"D:\\data\\image_data\\Fruits_Vegetables\\train\\sweetcorn\\Image_58.jpg\"]"
   ]
  },
  {
   "cell_type": "code",
   "execution_count": null,
   "id": "ec5b5050",
   "metadata": {},
   "outputs": [],
   "source": [
    "calculate_similarities(input_images, c, mode=\"rgb\", metric=\"cosine\", top_k=5)"
   ]
  },
  {
   "cell_type": "code",
   "execution_count": null,
   "id": "bab402a2",
   "metadata": {},
   "outputs": [],
   "source": [
    "conn.close()"
   ]
  }
 ],
 "metadata": {
  "kernelspec": {
   "display_name": "base",
   "language": "python",
   "name": "python3"
  },
  "language_info": {
   "codemirror_mode": {
    "name": "ipython",
    "version": 3
   },
   "file_extension": ".py",
   "mimetype": "text/x-python",
   "name": "python",
   "nbconvert_exporter": "python",
   "pygments_lexer": "ipython3",
   "version": "3.12.7"
  }
 },
 "nbformat": 4,
 "nbformat_minor": 5
}
