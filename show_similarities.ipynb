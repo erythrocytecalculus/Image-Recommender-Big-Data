{
 "cells": [
  {
   "cell_type": "markdown",
   "id": "67d30eea",
   "metadata": {},
   "source": [
    "### **Show Similarities Interface**\n",
    "\n",
    "In diesem Notebook können alle gesammelten Daten verwendet werden, um die *k* ähnlichsten Bilder zu einem gegebenen Bild zu ermitteln – je nach gewähltem Modus und Ähnlichkeitsmetrik."
   ]
  },
  {
   "cell_type": "code",
   "execution_count": null,
   "id": "20219790",
   "metadata": {},
   "outputs": [],
   "source": [
    "input_images = [r\"D:\\data\\image_data\\Landscapes\\00000000_(2).jpg\"]"
   ]
  },
  {
   "cell_type": "code",
   "execution_count": null,
   "id": "98a478ec",
   "metadata": {},
   "outputs": [],
   "source": [
    "from similarities import calculate_similarities\n",
    "from config_paths import DATABASE_PATH\n",
    "import sqlite3"
   ]
  },
  {
   "cell_type": "code",
   "execution_count": null,
   "id": "d85aa157",
   "metadata": {},
   "outputs": [],
   "source": [
    "conn = sqlite3.connect(DATABASE_PATH)\n",
    "c = conn.cursor()"
   ]
  },
  {
   "cell_type": "markdown",
   "id": "3ee6e588",
   "metadata": {},
   "source": [
    "### **EMBEDDINGS**"
   ]
  },
  {
   "cell_type": "code",
   "execution_count": null,
   "id": "fb87701f",
   "metadata": {},
   "outputs": [],
   "source": [
    "calculate_similarities(input_images, c, mode=\"embeddings\", metric=\"ann_cosine\", top_k=5, verbose=True)"
   ]
  },
  {
   "cell_type": "markdown",
   "id": "320949ee",
   "metadata": {},
   "source": [
    "### **COLOR RGB**"
   ]
  },
  {
   "cell_type": "code",
   "execution_count": null,
   "id": "ca78175d",
   "metadata": {},
   "outputs": [],
   "source": [
    "calculate_similarities(input_images, c, mode=\"rgb\", metric=\"bhattacharyya\", top_k=5, verbose=True)"
   ]
  },
  {
   "cell_type": "markdown",
   "id": "e3c31d1d",
   "metadata": {},
   "source": [
    "### **A-HASHES**"
   ]
  },
  {
   "cell_type": "code",
   "execution_count": null,
   "id": "b18ec232",
   "metadata": {},
   "outputs": [],
   "source": [
    "calculate_similarities(input_images, c, mode=\"phashes\", metric=\"hamming\", top_k=5)"
   ]
  },
  {
   "cell_type": "markdown",
   "id": "8a645128",
   "metadata": {},
   "source": [
    "### **Multiple input images**"
   ]
  },
  {
   "cell_type": "code",
   "execution_count": null,
   "id": "a238c7d1",
   "metadata": {},
   "outputs": [],
   "source": [
    "input_images = [r\"D:\\data\\image_data\\Landscapes\\00000000_(6).jpg\",\n",
    "                r\"D:\\data\\image_data\\Fruits_Vegetables\\train\\banana\\Image_8.jpg\",\n",
    "                r\"D:\\data\\image_data\\Landscapes\\00000002.jpg\",\n",
    "                r\"D:\\data\\image_data\\Landscapes\\00000007_(6).jpg\",\n",
    "                r\"D:\\data\\image_data\\Fruits_Vegetables\\train\\sweetcorn\\Image_58.jpg\"]"
   ]
  },
  {
   "cell_type": "code",
   "execution_count": null,
   "id": "ec5b5050",
   "metadata": {},
   "outputs": [],
   "source": [
    "calculate_similarities(input_images, c, mode=\"rgb\", metric=\"cosine\", top_k=5)"
   ]
  },
  {
   "cell_type": "code",
   "execution_count": null,
   "id": "bab402a2",
   "metadata": {},
   "outputs": [],
   "source": [
    "conn.close()"
   ]
  }
 ],
 "metadata": {
  "language_info": {
   "name": "python"
  }
 },
 "nbformat": 4,
 "nbformat_minor": 5
}
